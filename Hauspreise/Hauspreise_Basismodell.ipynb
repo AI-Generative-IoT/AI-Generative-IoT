{
 "cells": [
  {
   "cell_type": "code",
   "execution_count": 3,
   "id": "0b35c59a-8932-480a-b551-622469327287",
   "metadata": {},
   "outputs": [
    {
     "name": "stdout",
     "output_type": "stream",
     "text": [
      "🏠 Geschätzter Hauspreis: $190,049.81\n"
     ]
    }
   ],
   "source": [
    "import warnings\n",
    "warnings.filterwarnings(\"ignore\")\n",
    "\n",
    "import pandas as pd\n",
    "import numpy as np\n",
    "from catboost import CatBoostRegressor, Pool\n",
    "\n",
    "# === 1. Trainingsdaten laden & vorbereiten ===\n",
    "df = pd.read_csv(\"train.csv\")\n",
    "X = df.drop(columns=[\"Id\", \"SalePrice\"])\n",
    "y = df[\"SalePrice\"]\n",
    "\n",
    "# Fehlende Werte behandeln\n",
    "for col in X.columns:\n",
    "    if X[col].dtype == \"object\":\n",
    "        X[col].fillna(\"Missing\", inplace=True)\n",
    "    else:\n",
    "        X[col].fillna(X[col].median(), inplace=True)\n",
    "\n",
    "cat_features = X.select_dtypes(include=\"object\").columns.tolist()\n",
    "\n",
    "# === 2. CatBoost-Modell trainieren ===\n",
    "model = CatBoostRegressor(\n",
    "    iterations=1000,\n",
    "    learning_rate=0.05,\n",
    "    depth=6,\n",
    "    loss_function='RMSE',\n",
    "    random_seed=42,\n",
    "    verbose=0  # Warnungen und Logs unterdrücken\n",
    ")\n",
    "\n",
    "train_pool = Pool(X, y, cat_features=cat_features)\n",
    "model.fit(train_pool)\n",
    "\n",
    "# === 3. Beispielhafte Benutzereingabe (manuell oder via Interface) ===\n",
    "\n",
    "input_data = {\n",
    "    \"OverallQual\": 7,\n",
    "    \"GrLivArea\": 2000,\n",
    "    \"GarageCars\": 2,\n",
    "    \"TotalBsmtSF\": 1000,\n",
    "    \"FullBath\": 2,\n",
    "    \"YearBuilt\": 2005,\n",
    "    \"Neighborhood\": \"CollgCr\",\n",
    "    \"HouseStyle\": \"2Story\",\n",
    "    \"ExterQual\": \"Gd\",\n",
    "    \"KitchenQual\": \"Gd\",\n",
    "    \"GarageFinish\": \"Unf\",\n",
    "}\n",
    "\n",
    "# === 4. Eingabedaten als DataFrame vorbereiten ===\n",
    "input_df = pd.DataFrame([input_data])\n",
    "\n",
    "# Alle fehlenden Spalten (nicht eingegeben) ergänzen mit Median/\"Missing\"\n",
    "for col in X.columns:\n",
    "    if col not in input_df.columns:\n",
    "        if col in cat_features:\n",
    "            input_df[col] = \"Missing\"\n",
    "        else:\n",
    "            input_df[col] = X[col].median()\n",
    "\n",
    "# Spaltenreihenfolge anpassen\n",
    "input_df = input_df[X.columns]\n",
    "\n",
    "# === 5. Vorhersage durchführen ===\n",
    "input_pool = Pool(input_df, cat_features=cat_features)\n",
    "prediction = model.predict(input_pool)\n",
    "\n",
    "print(f\"🏠 Geschätzter Hauspreis: ${prediction[0]:,.2f}\")\n"
   ]
  }
 ],
 "metadata": {
  "kernelspec": {
   "display_name": "Python [conda env:base] *",
   "language": "python",
   "name": "conda-base-py"
  },
  "language_info": {
   "codemirror_mode": {
    "name": "ipython",
    "version": 3
   },
   "file_extension": ".py",
   "mimetype": "text/x-python",
   "name": "python",
   "nbconvert_exporter": "python",
   "pygments_lexer": "ipython3",
   "version": "3.12.7"
  }
 },
 "nbformat": 4,
 "nbformat_minor": 5
}
