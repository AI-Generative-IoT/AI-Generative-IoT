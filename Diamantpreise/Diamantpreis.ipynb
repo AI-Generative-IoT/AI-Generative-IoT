import numpy as np
import pandas as pd
import matplotlib.pyplot as plt
import seaborn as sns
from sklearn.model_selection import train_test_split
from sklearn.tree import DecisionTreeRegressor
from sklearn.ensemble import RandomForestRegressor
from sklearn.metrics import mean_squared_error, r2_score
from sklearn.preprocessing import LabelEncoder

# Load the Diamonds dataset
diamonds = sns.load_dataset('diamonds')

# Encode categorical columns
label_encoders = {}
categorical_cols = ['cut', 'color', 'clarity']
for col in categorical_cols:
    le = LabelEncoder()
    diamonds[col] = le.fit_transform(diamonds[col])
    label_encoders[col] = le

# Features and target
X = diamonds.drop(columns=['price'])  # Using all features except price
y = diamonds['price']

# Split dataset into training and testing sets
X_train, X_test, y_train, y_test = train_test_split(X, y, test_size=0.4, random_state=42)

# Decision Tree Regressor
dt_model = DecisionTreeRegressor(random_state=42)
dt_model.fit(X_train, y_train)
y_pred_dt = dt_model.predict(X_test)

# Random Forest Regressor
rf_model = RandomForestRegressor(n_estimators=100, random_state=42)
rf_model.fit(X_train, y_train)
y_pred_rf = rf_model.predict(X_test)

# Evaluation
print("Decision Tree Regressor Performance:")
print(f"R^2 Score: {r2_score(y_test, y_pred_dt):.2f}")
print(f"MSE: {mean_squared_error(y_test, y_pred_dt):,.2f}")

print("\nRandom Forest Regressor Performance:")
print(f"R^2 Score: {r2_score(y_test, y_pred_rf):.2f}")
print(f"MSE: {mean_squared_error(y_test, y_pred_rf):,.2f}")

# Feature Importance for Random Forest
importances = rf_model.feature_importances_
features = X.columns

# Plot Feature Importance
plt.figure(figsize=(10, 6))
sns.barplot(x=importances, y=features)
plt.title("Feature Importance (Random Forest)")
plt.xlabel("Importance")
plt.ylabel("Feature")
plt.tight_layout()
plt.show()

# Function to make predictions on new input data
def predict_diamond_price(carat, cut, color, clarity, depth, table, x, y, z):
    # Create a dataframe for the new input values
    input_data = pd.DataFrame({
        'carat': [carat],
        'cut': [label_encoders['cut'].transform([cut])[0]],  # Encoding categorical input
        'color': [label_encoders['color'].transform([color])[0]], 
        'clarity': [label_encoders['clarity'].transform([clarity])[0]],
        'depth': [depth],
        'table': [table],
        'x': [x],
        'y': [y],
        'z': [z]
    })
    
    # Make a prediction using the Random Forest model
    price_prediction = rf_model.predict(input_data)
    
    return price_prediction[0]

# Example usage: make a prediction for a new diamond
predicted_price = predict_diamond_price(
    carat=0.75, 
    cut='Ideal', 
    color='G', 
    clarity='VS2', 
    depth=61.5, 
    table=57.0, 
    x=5.8, 
    y=5.9, 
    z=3.6
)

print("\nPredicted Price for the New Diamond: $", round(predicted_price, 2))
